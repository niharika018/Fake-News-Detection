{
 "cells": [
  {
   "cell_type": "code",
   "execution_count": 1,
   "metadata": {
    "execution": {
     "iopub.execute_input": "2022-08-05T13:28:39.589587Z",
     "iopub.status.busy": "2022-08-05T13:28:39.589130Z",
     "iopub.status.idle": "2022-08-05T13:28:41.553691Z",
     "shell.execute_reply": "2022-08-05T13:28:41.552548Z"
    },
    "papermill": {
     "duration": 1.980609,
     "end_time": "2022-08-05T13:28:41.557377",
     "exception": false,
     "start_time": "2022-08-05T13:28:39.576768",
     "status": "completed"
    },
    "tags": []
   },
   "outputs": [],
   "source": [
    "import pandas as pd\n",
    "import numpy as np\n",
    "import re\n",
    "from nltk.corpus  import stopwords\n",
    "from nltk.stem.porter import PorterStemmer\n",
    "from sklearn.feature_extraction.text import TfidfVectorizer\n",
    "import matplotlib.pyplot as plt\n",
    "import seaborn as sns\n",
    "%matplotlib inline"
   ]
  },
  {
   "cell_type": "code",
   "execution_count": 2,
   "metadata": {
    "execution": {
     "iopub.execute_input": "2022-08-05T13:28:41.576872Z",
     "iopub.status.busy": "2022-08-05T13:28:41.576452Z",
     "iopub.status.idle": "2022-08-05T13:28:41.714451Z",
     "shell.execute_reply": "2022-08-05T13:28:41.713129Z"
    },
    "papermill": {
     "duration": 0.152367,
     "end_time": "2022-08-05T13:28:41.718783",
     "exception": false,
     "start_time": "2022-08-05T13:28:41.566416",
     "status": "completed"
    },
    "tags": []
   },
   "outputs": [
    {
     "name": "stderr",
     "output_type": "stream",
     "text": [
      "[nltk_data] Downloading package stopwords to\n",
      "[nltk_data]     C:\\Users\\Intel\\AppData\\Roaming\\nltk_data...\n",
      "[nltk_data]   Unzipping corpora\\stopwords.zip.\n"
     ]
    },
    {
     "data": {
      "text/plain": [
       "True"
      ]
     },
     "execution_count": 2,
     "metadata": {},
     "output_type": "execute_result"
    }
   ],
   "source": [
    "import nltk\n",
    "nltk.download('stopwords')"
   ]
  },
  {
   "cell_type": "code",
   "execution_count": 3,
   "metadata": {
    "execution": {
     "iopub.execute_input": "2022-08-05T13:28:41.739242Z",
     "iopub.status.busy": "2022-08-05T13:28:41.738821Z",
     "iopub.status.idle": "2022-08-05T13:28:41.749969Z",
     "shell.execute_reply": "2022-08-05T13:28:41.747803Z"
    },
    "papermill": {
     "duration": 0.024814,
     "end_time": "2022-08-05T13:28:41.753317",
     "exception": false,
     "start_time": "2022-08-05T13:28:41.728503",
     "status": "completed"
    },
    "tags": []
   },
   "outputs": [
    {
     "name": "stdout",
     "output_type": "stream",
     "text": [
      "['i', 'me', 'my', 'myself', 'we', 'our', 'ours', 'ourselves', 'you', \"you're\", \"you've\", \"you'll\", \"you'd\", 'your', 'yours', 'yourself', 'yourselves', 'he', 'him', 'his', 'himself', 'she', \"she's\", 'her', 'hers', 'herself', 'it', \"it's\", 'its', 'itself', 'they', 'them', 'their', 'theirs', 'themselves', 'what', 'which', 'who', 'whom', 'this', 'that', \"that'll\", 'these', 'those', 'am', 'is', 'are', 'was', 'were', 'be', 'been', 'being', 'have', 'has', 'had', 'having', 'do', 'does', 'did', 'doing', 'a', 'an', 'the', 'and', 'but', 'if', 'or', 'because', 'as', 'until', 'while', 'of', 'at', 'by', 'for', 'with', 'about', 'against', 'between', 'into', 'through', 'during', 'before', 'after', 'above', 'below', 'to', 'from', 'up', 'down', 'in', 'out', 'on', 'off', 'over', 'under', 'again', 'further', 'then', 'once', 'here', 'there', 'when', 'where', 'why', 'how', 'all', 'any', 'both', 'each', 'few', 'more', 'most', 'other', 'some', 'such', 'no', 'nor', 'not', 'only', 'own', 'same', 'so', 'than', 'too', 'very', 's', 't', 'can', 'will', 'just', 'don', \"don't\", 'should', \"should've\", 'now', 'd', 'll', 'm', 'o', 're', 've', 'y', 'ain', 'aren', \"aren't\", 'couldn', \"couldn't\", 'didn', \"didn't\", 'doesn', \"doesn't\", 'hadn', \"hadn't\", 'hasn', \"hasn't\", 'haven', \"haven't\", 'isn', \"isn't\", 'ma', 'mightn', \"mightn't\", 'mustn', \"mustn't\", 'needn', \"needn't\", 'shan', \"shan't\", 'shouldn', \"shouldn't\", 'wasn', \"wasn't\", 'weren', \"weren't\", 'won', \"won't\", 'wouldn', \"wouldn't\"]\n"
     ]
    }
   ],
   "source": [
    "print(stopwords.words('english'))"
   ]
  },
  {
   "cell_type": "code",
   "execution_count": 4,
   "metadata": {
    "execution": {
     "iopub.execute_input": "2022-08-05T13:28:41.773007Z",
     "iopub.status.busy": "2022-08-05T13:28:41.772507Z",
     "iopub.status.idle": "2022-08-05T13:28:44.928457Z",
     "shell.execute_reply": "2022-08-05T13:28:44.927173Z"
    },
    "papermill": {
     "duration": 3.168785,
     "end_time": "2022-08-05T13:28:44.931070",
     "exception": false,
     "start_time": "2022-08-05T13:28:41.762285",
     "status": "completed"
    },
    "tags": []
   },
   "outputs": [
    {
     "data": {
      "text/html": [
       "<div>\n",
       "<style scoped>\n",
       "    .dataframe tbody tr th:only-of-type {\n",
       "        vertical-align: middle;\n",
       "    }\n",
       "\n",
       "    .dataframe tbody tr th {\n",
       "        vertical-align: top;\n",
       "    }\n",
       "\n",
       "    .dataframe thead th {\n",
       "        text-align: right;\n",
       "    }\n",
       "</style>\n",
       "<table border=\"1\" class=\"dataframe\">\n",
       "  <thead>\n",
       "    <tr style=\"text-align: right;\">\n",
       "      <th></th>\n",
       "      <th>id</th>\n",
       "      <th>title</th>\n",
       "      <th>author</th>\n",
       "      <th>text</th>\n",
       "      <th>label</th>\n",
       "    </tr>\n",
       "  </thead>\n",
       "  <tbody>\n",
       "    <tr>\n",
       "      <th>0</th>\n",
       "      <td>0</td>\n",
       "      <td>House Dem Aide: We Didn’t Even See Comey’s Let...</td>\n",
       "      <td>Darrell Lucus</td>\n",
       "      <td>House Dem Aide: We Didn’t Even See Comey’s Let...</td>\n",
       "      <td>1</td>\n",
       "    </tr>\n",
       "    <tr>\n",
       "      <th>1</th>\n",
       "      <td>1</td>\n",
       "      <td>FLYNN: Hillary Clinton, Big Woman on Campus - ...</td>\n",
       "      <td>Daniel J. Flynn</td>\n",
       "      <td>Ever get the feeling your life circles the rou...</td>\n",
       "      <td>0</td>\n",
       "    </tr>\n",
       "    <tr>\n",
       "      <th>2</th>\n",
       "      <td>2</td>\n",
       "      <td>Why the Truth Might Get You Fired</td>\n",
       "      <td>Consortiumnews.com</td>\n",
       "      <td>Why the Truth Might Get You Fired October 29, ...</td>\n",
       "      <td>1</td>\n",
       "    </tr>\n",
       "    <tr>\n",
       "      <th>3</th>\n",
       "      <td>3</td>\n",
       "      <td>15 Civilians Killed In Single US Airstrike Hav...</td>\n",
       "      <td>Jessica Purkiss</td>\n",
       "      <td>Videos 15 Civilians Killed In Single US Airstr...</td>\n",
       "      <td>1</td>\n",
       "    </tr>\n",
       "    <tr>\n",
       "      <th>4</th>\n",
       "      <td>4</td>\n",
       "      <td>Iranian woman jailed for fictional unpublished...</td>\n",
       "      <td>Howard Portnoy</td>\n",
       "      <td>Print \\nAn Iranian woman has been sentenced to...</td>\n",
       "      <td>1</td>\n",
       "    </tr>\n",
       "  </tbody>\n",
       "</table>\n",
       "</div>"
      ],
      "text/plain": [
       "   id                                              title              author  \\\n",
       "0   0  House Dem Aide: We Didn’t Even See Comey’s Let...       Darrell Lucus   \n",
       "1   1  FLYNN: Hillary Clinton, Big Woman on Campus - ...     Daniel J. Flynn   \n",
       "2   2                  Why the Truth Might Get You Fired  Consortiumnews.com   \n",
       "3   3  15 Civilians Killed In Single US Airstrike Hav...     Jessica Purkiss   \n",
       "4   4  Iranian woman jailed for fictional unpublished...      Howard Portnoy   \n",
       "\n",
       "                                                text  label  \n",
       "0  House Dem Aide: We Didn’t Even See Comey’s Let...      1  \n",
       "1  Ever get the feeling your life circles the rou...      0  \n",
       "2  Why the Truth Might Get You Fired October 29, ...      1  \n",
       "3  Videos 15 Civilians Killed In Single US Airstr...      1  \n",
       "4  Print \\nAn Iranian woman has been sentenced to...      1  "
      ]
     },
     "execution_count": 4,
     "metadata": {},
     "output_type": "execute_result"
    }
   ],
   "source": [
    "raw_data = pd.read_csv('train.csv')\n",
    "raw_data.head()"
   ]
  },
  {
   "cell_type": "code",
   "execution_count": 5,
   "metadata": {
    "execution": {
     "iopub.execute_input": "2022-08-05T13:28:44.950665Z",
     "iopub.status.busy": "2022-08-05T13:28:44.950017Z",
     "iopub.status.idle": "2022-08-05T13:28:44.957171Z",
     "shell.execute_reply": "2022-08-05T13:28:44.956001Z"
    },
    "papermill": {
     "duration": 0.019479,
     "end_time": "2022-08-05T13:28:44.959517",
     "exception": false,
     "start_time": "2022-08-05T13:28:44.940038",
     "status": "completed"
    },
    "tags": []
   },
   "outputs": [
    {
     "data": {
      "text/plain": [
       "(20800, 5)"
      ]
     },
     "execution_count": 5,
     "metadata": {},
     "output_type": "execute_result"
    }
   ],
   "source": [
    "raw_data.shape"
   ]
  },
  {
   "cell_type": "code",
   "execution_count": 6,
   "metadata": {
    "execution": {
     "iopub.execute_input": "2022-08-05T13:28:44.978908Z",
     "iopub.status.busy": "2022-08-05T13:28:44.978490Z",
     "iopub.status.idle": "2022-08-05T13:28:45.017390Z",
     "shell.execute_reply": "2022-08-05T13:28:45.015996Z"
    },
    "papermill": {
     "duration": 0.051761,
     "end_time": "2022-08-05T13:28:45.020030",
     "exception": false,
     "start_time": "2022-08-05T13:28:44.968269",
     "status": "completed"
    },
    "tags": []
   },
   "outputs": [
    {
     "data": {
      "text/html": [
       "<div>\n",
       "<style scoped>\n",
       "    .dataframe tbody tr th:only-of-type {\n",
       "        vertical-align: middle;\n",
       "    }\n",
       "\n",
       "    .dataframe tbody tr th {\n",
       "        vertical-align: top;\n",
       "    }\n",
       "\n",
       "    .dataframe thead th {\n",
       "        text-align: right;\n",
       "    }\n",
       "</style>\n",
       "<table border=\"1\" class=\"dataframe\">\n",
       "  <thead>\n",
       "    <tr style=\"text-align: right;\">\n",
       "      <th></th>\n",
       "      <th>id</th>\n",
       "      <th>label</th>\n",
       "    </tr>\n",
       "  </thead>\n",
       "  <tbody>\n",
       "    <tr>\n",
       "      <th>count</th>\n",
       "      <td>20800.000000</td>\n",
       "      <td>20800.000000</td>\n",
       "    </tr>\n",
       "    <tr>\n",
       "      <th>mean</th>\n",
       "      <td>10399.500000</td>\n",
       "      <td>0.500625</td>\n",
       "    </tr>\n",
       "    <tr>\n",
       "      <th>std</th>\n",
       "      <td>6004.587135</td>\n",
       "      <td>0.500012</td>\n",
       "    </tr>\n",
       "    <tr>\n",
       "      <th>min</th>\n",
       "      <td>0.000000</td>\n",
       "      <td>0.000000</td>\n",
       "    </tr>\n",
       "    <tr>\n",
       "      <th>25%</th>\n",
       "      <td>5199.750000</td>\n",
       "      <td>0.000000</td>\n",
       "    </tr>\n",
       "    <tr>\n",
       "      <th>50%</th>\n",
       "      <td>10399.500000</td>\n",
       "      <td>1.000000</td>\n",
       "    </tr>\n",
       "    <tr>\n",
       "      <th>75%</th>\n",
       "      <td>15599.250000</td>\n",
       "      <td>1.000000</td>\n",
       "    </tr>\n",
       "    <tr>\n",
       "      <th>max</th>\n",
       "      <td>20799.000000</td>\n",
       "      <td>1.000000</td>\n",
       "    </tr>\n",
       "  </tbody>\n",
       "</table>\n",
       "</div>"
      ],
      "text/plain": [
       "                 id         label\n",
       "count  20800.000000  20800.000000\n",
       "mean   10399.500000      0.500625\n",
       "std     6004.587135      0.500012\n",
       "min        0.000000      0.000000\n",
       "25%     5199.750000      0.000000\n",
       "50%    10399.500000      1.000000\n",
       "75%    15599.250000      1.000000\n",
       "max    20799.000000      1.000000"
      ]
     },
     "execution_count": 6,
     "metadata": {},
     "output_type": "execute_result"
    }
   ],
   "source": [
    "raw_data.describe()"
   ]
  },
  {
   "cell_type": "code",
   "execution_count": 7,
   "metadata": {
    "execution": {
     "iopub.execute_input": "2022-08-05T13:28:45.039917Z",
     "iopub.status.busy": "2022-08-05T13:28:45.039476Z",
     "iopub.status.idle": "2022-08-05T13:28:45.065887Z",
     "shell.execute_reply": "2022-08-05T13:28:45.063877Z"
    },
    "papermill": {
     "duration": 0.040044,
     "end_time": "2022-08-05T13:28:45.069111",
     "exception": false,
     "start_time": "2022-08-05T13:28:45.029067",
     "status": "completed"
    },
    "tags": []
   },
   "outputs": [
    {
     "name": "stdout",
     "output_type": "stream",
     "text": [
      "<class 'pandas.core.frame.DataFrame'>\n",
      "RangeIndex: 20800 entries, 0 to 20799\n",
      "Data columns (total 5 columns):\n",
      " #   Column  Non-Null Count  Dtype \n",
      "---  ------  --------------  ----- \n",
      " 0   id      20800 non-null  int64 \n",
      " 1   title   20242 non-null  object\n",
      " 2   author  18843 non-null  object\n",
      " 3   text    20761 non-null  object\n",
      " 4   label   20800 non-null  int64 \n",
      "dtypes: int64(2), object(3)\n",
      "memory usage: 812.6+ KB\n"
     ]
    }
   ],
   "source": [
    "raw_data.info()"
   ]
  },
  {
   "cell_type": "code",
   "execution_count": 8,
   "metadata": {
    "execution": {
     "iopub.execute_input": "2022-08-05T13:28:45.090378Z",
     "iopub.status.busy": "2022-08-05T13:28:45.090002Z",
     "iopub.status.idle": "2022-08-05T13:28:45.107443Z",
     "shell.execute_reply": "2022-08-05T13:28:45.105990Z"
    },
    "papermill": {
     "duration": 0.029939,
     "end_time": "2022-08-05T13:28:45.109775",
     "exception": false,
     "start_time": "2022-08-05T13:28:45.079836",
     "status": "completed"
    },
    "tags": []
   },
   "outputs": [
    {
     "data": {
      "text/plain": [
       "id           0\n",
       "title      558\n",
       "author    1957\n",
       "text        39\n",
       "label        0\n",
       "dtype: int64"
      ]
     },
     "execution_count": 8,
     "metadata": {},
     "output_type": "execute_result"
    }
   ],
   "source": [
    "raw_data.isnull().sum()"
   ]
  },
  {
   "cell_type": "code",
   "execution_count": 9,
   "metadata": {
    "execution": {
     "iopub.execute_input": "2022-08-05T13:28:45.130239Z",
     "iopub.status.busy": "2022-08-05T13:28:45.129700Z",
     "iopub.status.idle": "2022-08-05T13:28:45.287061Z",
     "shell.execute_reply": "2022-08-05T13:28:45.286103Z"
    },
    "papermill": {
     "duration": 0.170647,
     "end_time": "2022-08-05T13:28:45.289358",
     "exception": false,
     "start_time": "2022-08-05T13:28:45.118711",
     "status": "completed"
    },
    "tags": []
   },
   "outputs": [
    {
     "data": {
      "text/plain": [
       "id        20800\n",
       "title     19803\n",
       "author     4201\n",
       "text      20386\n",
       "label         2\n",
       "dtype: int64"
      ]
     },
     "execution_count": 9,
     "metadata": {},
     "output_type": "execute_result"
    }
   ],
   "source": [
    "raw_data.nunique()"
   ]
  },
  {
   "cell_type": "code",
   "execution_count": 10,
   "metadata": {
    "execution": {
     "iopub.execute_input": "2022-08-05T13:28:45.310313Z",
     "iopub.status.busy": "2022-08-05T13:28:45.309830Z",
     "iopub.status.idle": "2022-08-05T13:28:45.325554Z",
     "shell.execute_reply": "2022-08-05T13:28:45.324435Z"
    },
    "papermill": {
     "duration": 0.02963,
     "end_time": "2022-08-05T13:28:45.328164",
     "exception": false,
     "start_time": "2022-08-05T13:28:45.298534",
     "status": "completed"
    },
    "tags": []
   },
   "outputs": [],
   "source": [
    "#replacing null values with empty string\n",
    "\n",
    "raw_data = raw_data.fillna('')"
   ]
  },
  {
   "cell_type": "code",
   "execution_count": 11,
   "metadata": {
    "execution": {
     "iopub.execute_input": "2022-08-05T13:28:45.349923Z",
     "iopub.status.busy": "2022-08-05T13:28:45.348513Z",
     "iopub.status.idle": "2022-08-05T13:28:45.368835Z",
     "shell.execute_reply": "2022-08-05T13:28:45.367477Z"
    },
    "papermill": {
     "duration": 0.033731,
     "end_time": "2022-08-05T13:28:45.371385",
     "exception": false,
     "start_time": "2022-08-05T13:28:45.337654",
     "status": "completed"
    },
    "tags": []
   },
   "outputs": [
    {
     "data": {
      "text/plain": [
       "id        0\n",
       "title     0\n",
       "author    0\n",
       "text      0\n",
       "label     0\n",
       "dtype: int64"
      ]
     },
     "execution_count": 11,
     "metadata": {},
     "output_type": "execute_result"
    }
   ],
   "source": [
    "raw_data.isnull().sum()"
   ]
  },
  {
   "cell_type": "code",
   "execution_count": 12,
   "metadata": {
    "execution": {
     "iopub.execute_input": "2022-08-05T13:28:45.392295Z",
     "iopub.status.busy": "2022-08-05T13:28:45.391922Z",
     "iopub.status.idle": "2022-08-05T13:28:45.412917Z",
     "shell.execute_reply": "2022-08-05T13:28:45.411602Z"
    },
    "papermill": {
     "duration": 0.034421,
     "end_time": "2022-08-05T13:28:45.415379",
     "exception": false,
     "start_time": "2022-08-05T13:28:45.380958",
     "status": "completed"
    },
    "tags": []
   },
   "outputs": [
    {
     "data": {
      "text/plain": [
       "0        Darrell Lucus House Dem Aide: We Didn’t Even S...\n",
       "1        Daniel J. Flynn FLYNN: Hillary Clinton, Big Wo...\n",
       "2        Consortiumnews.com Why the Truth Might Get You...\n",
       "3        Jessica Purkiss 15 Civilians Killed In Single ...\n",
       "4        Howard Portnoy Iranian woman jailed for fictio...\n",
       "                               ...                        \n",
       "20795    Jerome Hudson Rapper T.I.: Trump a ’Poster Chi...\n",
       "20796    Benjamin Hoffman N.F.L. Playoffs: Schedule, Ma...\n",
       "20797    Michael J. de la Merced and Rachel Abrams Macy...\n",
       "20798    Alex Ansary NATO, Russia To Hold Parallel Exer...\n",
       "20799              David Swanson What Keeps the F-35 Alive\n",
       "Name: content, Length: 20800, dtype: object"
      ]
     },
     "execution_count": 12,
     "metadata": {},
     "output_type": "execute_result"
    }
   ],
   "source": [
    "#merging the author name and news title  \n",
    "\n",
    "raw_data['content'] = raw_data['author']+ ' '+ raw_data['title']\n",
    "raw_data['content']"
   ]
  },
  {
   "cell_type": "code",
   "execution_count": 13,
   "metadata": {
    "execution": {
     "iopub.execute_input": "2022-08-05T13:28:45.436377Z",
     "iopub.status.busy": "2022-08-05T13:28:45.436007Z",
     "iopub.status.idle": "2022-08-05T13:28:45.448462Z",
     "shell.execute_reply": "2022-08-05T13:28:45.447417Z"
    },
    "papermill": {
     "duration": 0.025914,
     "end_time": "2022-08-05T13:28:45.451039",
     "exception": false,
     "start_time": "2022-08-05T13:28:45.425125",
     "status": "completed"
    },
    "tags": []
   },
   "outputs": [],
   "source": [
    "# seperating the data and label\n",
    "\n",
    "X = raw_data.drop(columns = 'label',axis = 1)\n",
    "y =raw_data['label']"
   ]
  },
  {
   "cell_type": "code",
   "execution_count": 14,
   "metadata": {
    "execution": {
     "iopub.execute_input": "2022-08-05T13:28:45.472440Z",
     "iopub.status.busy": "2022-08-05T13:28:45.471048Z",
     "iopub.status.idle": "2022-08-05T13:28:45.488461Z",
     "shell.execute_reply": "2022-08-05T13:28:45.487171Z"
    },
    "papermill": {
     "duration": 0.03041,
     "end_time": "2022-08-05T13:28:45.490795",
     "exception": false,
     "start_time": "2022-08-05T13:28:45.460385",
     "status": "completed"
    },
    "tags": []
   },
   "outputs": [
    {
     "data": {
      "text/html": [
       "<div>\n",
       "<style scoped>\n",
       "    .dataframe tbody tr th:only-of-type {\n",
       "        vertical-align: middle;\n",
       "    }\n",
       "\n",
       "    .dataframe tbody tr th {\n",
       "        vertical-align: top;\n",
       "    }\n",
       "\n",
       "    .dataframe thead th {\n",
       "        text-align: right;\n",
       "    }\n",
       "</style>\n",
       "<table border=\"1\" class=\"dataframe\">\n",
       "  <thead>\n",
       "    <tr style=\"text-align: right;\">\n",
       "      <th></th>\n",
       "      <th>id</th>\n",
       "      <th>title</th>\n",
       "      <th>author</th>\n",
       "      <th>text</th>\n",
       "      <th>content</th>\n",
       "    </tr>\n",
       "  </thead>\n",
       "  <tbody>\n",
       "    <tr>\n",
       "      <th>0</th>\n",
       "      <td>0</td>\n",
       "      <td>House Dem Aide: We Didn’t Even See Comey’s Let...</td>\n",
       "      <td>Darrell Lucus</td>\n",
       "      <td>House Dem Aide: We Didn’t Even See Comey’s Let...</td>\n",
       "      <td>Darrell Lucus House Dem Aide: We Didn’t Even S...</td>\n",
       "    </tr>\n",
       "    <tr>\n",
       "      <th>1</th>\n",
       "      <td>1</td>\n",
       "      <td>FLYNN: Hillary Clinton, Big Woman on Campus - ...</td>\n",
       "      <td>Daniel J. Flynn</td>\n",
       "      <td>Ever get the feeling your life circles the rou...</td>\n",
       "      <td>Daniel J. Flynn FLYNN: Hillary Clinton, Big Wo...</td>\n",
       "    </tr>\n",
       "    <tr>\n",
       "      <th>2</th>\n",
       "      <td>2</td>\n",
       "      <td>Why the Truth Might Get You Fired</td>\n",
       "      <td>Consortiumnews.com</td>\n",
       "      <td>Why the Truth Might Get You Fired October 29, ...</td>\n",
       "      <td>Consortiumnews.com Why the Truth Might Get You...</td>\n",
       "    </tr>\n",
       "    <tr>\n",
       "      <th>3</th>\n",
       "      <td>3</td>\n",
       "      <td>15 Civilians Killed In Single US Airstrike Hav...</td>\n",
       "      <td>Jessica Purkiss</td>\n",
       "      <td>Videos 15 Civilians Killed In Single US Airstr...</td>\n",
       "      <td>Jessica Purkiss 15 Civilians Killed In Single ...</td>\n",
       "    </tr>\n",
       "    <tr>\n",
       "      <th>4</th>\n",
       "      <td>4</td>\n",
       "      <td>Iranian woman jailed for fictional unpublished...</td>\n",
       "      <td>Howard Portnoy</td>\n",
       "      <td>Print \\nAn Iranian woman has been sentenced to...</td>\n",
       "      <td>Howard Portnoy Iranian woman jailed for fictio...</td>\n",
       "    </tr>\n",
       "    <tr>\n",
       "      <th>...</th>\n",
       "      <td>...</td>\n",
       "      <td>...</td>\n",
       "      <td>...</td>\n",
       "      <td>...</td>\n",
       "      <td>...</td>\n",
       "    </tr>\n",
       "    <tr>\n",
       "      <th>20795</th>\n",
       "      <td>20795</td>\n",
       "      <td>Rapper T.I.: Trump a ’Poster Child For White S...</td>\n",
       "      <td>Jerome Hudson</td>\n",
       "      <td>Rapper T. I. unloaded on black celebrities who...</td>\n",
       "      <td>Jerome Hudson Rapper T.I.: Trump a ’Poster Chi...</td>\n",
       "    </tr>\n",
       "    <tr>\n",
       "      <th>20796</th>\n",
       "      <td>20796</td>\n",
       "      <td>N.F.L. Playoffs: Schedule, Matchups and Odds -...</td>\n",
       "      <td>Benjamin Hoffman</td>\n",
       "      <td>When the Green Bay Packers lost to the Washing...</td>\n",
       "      <td>Benjamin Hoffman N.F.L. Playoffs: Schedule, Ma...</td>\n",
       "    </tr>\n",
       "    <tr>\n",
       "      <th>20797</th>\n",
       "      <td>20797</td>\n",
       "      <td>Macy’s Is Said to Receive Takeover Approach by...</td>\n",
       "      <td>Michael J. de la Merced and Rachel Abrams</td>\n",
       "      <td>The Macy’s of today grew from the union of sev...</td>\n",
       "      <td>Michael J. de la Merced and Rachel Abrams Macy...</td>\n",
       "    </tr>\n",
       "    <tr>\n",
       "      <th>20798</th>\n",
       "      <td>20798</td>\n",
       "      <td>NATO, Russia To Hold Parallel Exercises In Bal...</td>\n",
       "      <td>Alex Ansary</td>\n",
       "      <td>NATO, Russia To Hold Parallel Exercises In Bal...</td>\n",
       "      <td>Alex Ansary NATO, Russia To Hold Parallel Exer...</td>\n",
       "    </tr>\n",
       "    <tr>\n",
       "      <th>20799</th>\n",
       "      <td>20799</td>\n",
       "      <td>What Keeps the F-35 Alive</td>\n",
       "      <td>David Swanson</td>\n",
       "      <td>David Swanson is an author, activist, journa...</td>\n",
       "      <td>David Swanson What Keeps the F-35 Alive</td>\n",
       "    </tr>\n",
       "  </tbody>\n",
       "</table>\n",
       "<p>20800 rows × 5 columns</p>\n",
       "</div>"
      ],
      "text/plain": [
       "          id                                              title  \\\n",
       "0          0  House Dem Aide: We Didn’t Even See Comey’s Let...   \n",
       "1          1  FLYNN: Hillary Clinton, Big Woman on Campus - ...   \n",
       "2          2                  Why the Truth Might Get You Fired   \n",
       "3          3  15 Civilians Killed In Single US Airstrike Hav...   \n",
       "4          4  Iranian woman jailed for fictional unpublished...   \n",
       "...      ...                                                ...   \n",
       "20795  20795  Rapper T.I.: Trump a ’Poster Child For White S...   \n",
       "20796  20796  N.F.L. Playoffs: Schedule, Matchups and Odds -...   \n",
       "20797  20797  Macy’s Is Said to Receive Takeover Approach by...   \n",
       "20798  20798  NATO, Russia To Hold Parallel Exercises In Bal...   \n",
       "20799  20799                          What Keeps the F-35 Alive   \n",
       "\n",
       "                                          author  \\\n",
       "0                                  Darrell Lucus   \n",
       "1                                Daniel J. Flynn   \n",
       "2                             Consortiumnews.com   \n",
       "3                                Jessica Purkiss   \n",
       "4                                 Howard Portnoy   \n",
       "...                                          ...   \n",
       "20795                              Jerome Hudson   \n",
       "20796                           Benjamin Hoffman   \n",
       "20797  Michael J. de la Merced and Rachel Abrams   \n",
       "20798                                Alex Ansary   \n",
       "20799                              David Swanson   \n",
       "\n",
       "                                                    text  \\\n",
       "0      House Dem Aide: We Didn’t Even See Comey’s Let...   \n",
       "1      Ever get the feeling your life circles the rou...   \n",
       "2      Why the Truth Might Get You Fired October 29, ...   \n",
       "3      Videos 15 Civilians Killed In Single US Airstr...   \n",
       "4      Print \\nAn Iranian woman has been sentenced to...   \n",
       "...                                                  ...   \n",
       "20795  Rapper T. I. unloaded on black celebrities who...   \n",
       "20796  When the Green Bay Packers lost to the Washing...   \n",
       "20797  The Macy’s of today grew from the union of sev...   \n",
       "20798  NATO, Russia To Hold Parallel Exercises In Bal...   \n",
       "20799    David Swanson is an author, activist, journa...   \n",
       "\n",
       "                                                 content  \n",
       "0      Darrell Lucus House Dem Aide: We Didn’t Even S...  \n",
       "1      Daniel J. Flynn FLYNN: Hillary Clinton, Big Wo...  \n",
       "2      Consortiumnews.com Why the Truth Might Get You...  \n",
       "3      Jessica Purkiss 15 Civilians Killed In Single ...  \n",
       "4      Howard Portnoy Iranian woman jailed for fictio...  \n",
       "...                                                  ...  \n",
       "20795  Jerome Hudson Rapper T.I.: Trump a ’Poster Chi...  \n",
       "20796  Benjamin Hoffman N.F.L. Playoffs: Schedule, Ma...  \n",
       "20797  Michael J. de la Merced and Rachel Abrams Macy...  \n",
       "20798  Alex Ansary NATO, Russia To Hold Parallel Exer...  \n",
       "20799            David Swanson What Keeps the F-35 Alive  \n",
       "\n",
       "[20800 rows x 5 columns]"
      ]
     },
     "execution_count": 14,
     "metadata": {},
     "output_type": "execute_result"
    }
   ],
   "source": [
    "X"
   ]
  },
  {
   "cell_type": "code",
   "execution_count": 15,
   "metadata": {
    "execution": {
     "iopub.execute_input": "2022-08-05T13:28:45.512242Z",
     "iopub.status.busy": "2022-08-05T13:28:45.511862Z",
     "iopub.status.idle": "2022-08-05T13:28:45.520581Z",
     "shell.execute_reply": "2022-08-05T13:28:45.519786Z"
    },
    "papermill": {
     "duration": 0.021938,
     "end_time": "2022-08-05T13:28:45.522547",
     "exception": false,
     "start_time": "2022-08-05T13:28:45.500609",
     "status": "completed"
    },
    "tags": []
   },
   "outputs": [
    {
     "data": {
      "text/plain": [
       "0        1\n",
       "1        0\n",
       "2        1\n",
       "3        1\n",
       "4        1\n",
       "        ..\n",
       "20795    0\n",
       "20796    0\n",
       "20797    0\n",
       "20798    1\n",
       "20799    1\n",
       "Name: label, Length: 20800, dtype: int64"
      ]
     },
     "execution_count": 15,
     "metadata": {},
     "output_type": "execute_result"
    }
   ],
   "source": [
    "y"
   ]
  },
  {
   "cell_type": "code",
   "execution_count": 16,
   "metadata": {
    "execution": {
     "iopub.execute_input": "2022-08-05T13:28:45.544324Z",
     "iopub.status.busy": "2022-08-05T13:28:45.543874Z",
     "iopub.status.idle": "2022-08-05T13:28:45.549001Z",
     "shell.execute_reply": "2022-08-05T13:28:45.547748Z"
    },
    "papermill": {
     "duration": 0.018957,
     "end_time": "2022-08-05T13:28:45.551317",
     "exception": false,
     "start_time": "2022-08-05T13:28:45.532360",
     "status": "completed"
    },
    "tags": []
   },
   "outputs": [],
   "source": [
    "#stemming -- is the process of reducing the words into roots words.\n",
    "#It means that is will remove suffix and prefix from the word"
   ]
  },
  {
   "cell_type": "code",
   "execution_count": 17,
   "metadata": {
    "execution": {
     "iopub.execute_input": "2022-08-05T13:28:45.573042Z",
     "iopub.status.busy": "2022-08-05T13:28:45.572569Z",
     "iopub.status.idle": "2022-08-05T13:28:45.578274Z",
     "shell.execute_reply": "2022-08-05T13:28:45.576954Z"
    },
    "papermill": {
     "duration": 0.019719,
     "end_time": "2022-08-05T13:28:45.580868",
     "exception": false,
     "start_time": "2022-08-05T13:28:45.561149",
     "status": "completed"
    },
    "tags": []
   },
   "outputs": [],
   "source": [
    "port = PorterStemmer()"
   ]
  },
  {
   "cell_type": "code",
   "execution_count": 18,
   "metadata": {
    "execution": {
     "iopub.execute_input": "2022-08-05T13:28:45.602948Z",
     "iopub.status.busy": "2022-08-05T13:28:45.602447Z",
     "iopub.status.idle": "2022-08-05T13:28:45.610654Z",
     "shell.execute_reply": "2022-08-05T13:28:45.609058Z"
    },
    "papermill": {
     "duration": 0.022573,
     "end_time": "2022-08-05T13:28:45.613385",
     "exception": false,
     "start_time": "2022-08-05T13:28:45.590812",
     "status": "completed"
    },
    "tags": []
   },
   "outputs": [],
   "source": [
    "def stemming(content):\n",
    "    stemmed_content = re.sub('[^a-zA-Z]',' ',content) \n",
    "    \n",
    "    #regular expression is useful for searchinmg paragraph for text\n",
    "    # sub is used for substitute the certain value \n",
    "           # used for eleminating ,.and numbers...\n",
    "    stemmed_content = stemmed_content.lower()\n",
    "    stemmed_content = stemmed_content.split()\n",
    "    \n",
    "    #it will cnvert words into list\n",
    "    \n",
    "    stemmed_content = [port.stem(word) for word in stemmed_content if not word in stopwords.words('english')] \n",
    "    \n",
    "    # stemming is used and then stopwords are used because we dont want that words then JOIN all the words.\n",
    "    stemmed_content = ' '.join(stemmed_content)\n",
    "    return stemmed_content "
   ]
  },
  {
   "cell_type": "code",
   "execution_count": 19,
   "metadata": {
    "execution": {
     "iopub.execute_input": "2022-08-05T13:28:45.635873Z",
     "iopub.status.busy": "2022-08-05T13:28:45.634907Z",
     "iopub.status.idle": "2022-08-05T13:29:34.339222Z",
     "shell.execute_reply": "2022-08-05T13:29:34.337797Z"
    },
    "papermill": {
     "duration": 48.719036,
     "end_time": "2022-08-05T13:29:34.342439",
     "exception": false,
     "start_time": "2022-08-05T13:28:45.623403",
     "status": "completed"
    },
    "tags": []
   },
   "outputs": [],
   "source": [
    "raw_data['content'] = raw_data['content'].apply(stemming)"
   ]
  },
  {
   "cell_type": "code",
   "execution_count": 20,
   "metadata": {
    "execution": {
     "iopub.execute_input": "2022-08-05T13:29:34.365754Z",
     "iopub.status.busy": "2022-08-05T13:29:34.365299Z",
     "iopub.status.idle": "2022-08-05T13:29:34.376050Z",
     "shell.execute_reply": "2022-08-05T13:29:34.374782Z"
    },
    "papermill": {
     "duration": 0.025207,
     "end_time": "2022-08-05T13:29:34.378599",
     "exception": false,
     "start_time": "2022-08-05T13:29:34.353392",
     "status": "completed"
    },
    "tags": []
   },
   "outputs": [
    {
     "data": {
      "text/plain": [
       "0        darrel lucu hous dem aid even see comey letter...\n",
       "1        daniel j flynn flynn hillari clinton big woman...\n",
       "2                   consortiumnew com truth might get fire\n",
       "3        jessica purkiss civilian kill singl us airstri...\n",
       "4        howard portnoy iranian woman jail fiction unpu...\n",
       "                               ...                        \n",
       "20795    jerom hudson rapper trump poster child white s...\n",
       "20796    benjamin hoffman n f l playoff schedul matchup...\n",
       "20797    michael j de la merc rachel abram maci said re...\n",
       "20798    alex ansari nato russia hold parallel exercis ...\n",
       "20799                            david swanson keep f aliv\n",
       "Name: content, Length: 20800, dtype: object"
      ]
     },
     "execution_count": 20,
     "metadata": {},
     "output_type": "execute_result"
    }
   ],
   "source": [
    "raw_data['content']"
   ]
  },
  {
   "cell_type": "code",
   "execution_count": 21,
   "metadata": {
    "execution": {
     "iopub.execute_input": "2022-08-05T13:29:34.402056Z",
     "iopub.status.busy": "2022-08-05T13:29:34.401357Z",
     "iopub.status.idle": "2022-08-05T13:29:34.407233Z",
     "shell.execute_reply": "2022-08-05T13:29:34.405863Z"
    },
    "papermill": {
     "duration": 0.020161,
     "end_time": "2022-08-05T13:29:34.409653",
     "exception": false,
     "start_time": "2022-08-05T13:29:34.389492",
     "status": "completed"
    },
    "tags": []
   },
   "outputs": [],
   "source": [
    "X = raw_data['content'].values\n",
    "y = raw_data['label'].values"
   ]
  },
  {
   "cell_type": "code",
   "execution_count": 22,
   "metadata": {
    "execution": {
     "iopub.execute_input": "2022-08-05T13:29:34.433035Z",
     "iopub.status.busy": "2022-08-05T13:29:34.432626Z",
     "iopub.status.idle": "2022-08-05T13:29:34.439362Z",
     "shell.execute_reply": "2022-08-05T13:29:34.438462Z"
    },
    "papermill": {
     "duration": 0.021221,
     "end_time": "2022-08-05T13:29:34.441490",
     "exception": false,
     "start_time": "2022-08-05T13:29:34.420269",
     "status": "completed"
    },
    "tags": []
   },
   "outputs": [
    {
     "data": {
      "text/plain": [
       "array(['darrel lucu hous dem aid even see comey letter jason chaffetz tweet',\n",
       "       'daniel j flynn flynn hillari clinton big woman campu breitbart',\n",
       "       'consortiumnew com truth might get fire', ...,\n",
       "       'michael j de la merc rachel abram maci said receiv takeov approach hudson bay new york time',\n",
       "       'alex ansari nato russia hold parallel exercis balkan',\n",
       "       'david swanson keep f aliv'], dtype=object)"
      ]
     },
     "execution_count": 22,
     "metadata": {},
     "output_type": "execute_result"
    }
   ],
   "source": [
    "X"
   ]
  },
  {
   "cell_type": "code",
   "execution_count": 23,
   "metadata": {
    "execution": {
     "iopub.execute_input": "2022-08-05T13:29:34.464333Z",
     "iopub.status.busy": "2022-08-05T13:29:34.463929Z",
     "iopub.status.idle": "2022-08-05T13:29:34.471275Z",
     "shell.execute_reply": "2022-08-05T13:29:34.469886Z"
    },
    "papermill": {
     "duration": 0.021684,
     "end_time": "2022-08-05T13:29:34.473842",
     "exception": false,
     "start_time": "2022-08-05T13:29:34.452158",
     "status": "completed"
    },
    "tags": []
   },
   "outputs": [
    {
     "data": {
      "text/plain": [
       "array([1, 0, 1, ..., 0, 1, 1], dtype=int64)"
      ]
     },
     "execution_count": 23,
     "metadata": {},
     "output_type": "execute_result"
    }
   ],
   "source": [
    "y"
   ]
  },
  {
   "cell_type": "code",
   "execution_count": 24,
   "metadata": {
    "execution": {
     "iopub.execute_input": "2022-08-05T13:29:34.497451Z",
     "iopub.status.busy": "2022-08-05T13:29:34.497043Z",
     "iopub.status.idle": "2022-08-05T13:29:34.504045Z",
     "shell.execute_reply": "2022-08-05T13:29:34.502814Z"
    },
    "papermill": {
     "duration": 0.021437,
     "end_time": "2022-08-05T13:29:34.506411",
     "exception": false,
     "start_time": "2022-08-05T13:29:34.484974",
     "status": "completed"
    },
    "tags": []
   },
   "outputs": [
    {
     "data": {
      "text/plain": [
       "(20800,)"
      ]
     },
     "execution_count": 24,
     "metadata": {},
     "output_type": "execute_result"
    }
   ],
   "source": [
    "y.shape"
   ]
  },
  {
   "cell_type": "code",
   "execution_count": 25,
   "metadata": {
    "execution": {
     "iopub.execute_input": "2022-08-05T13:29:34.529703Z",
     "iopub.status.busy": "2022-08-05T13:29:34.529309Z",
     "iopub.status.idle": "2022-08-05T13:29:35.078423Z",
     "shell.execute_reply": "2022-08-05T13:29:35.077278Z"
    },
    "papermill": {
     "duration": 0.564212,
     "end_time": "2022-08-05T13:29:35.081469",
     "exception": false,
     "start_time": "2022-08-05T13:29:34.517257",
     "status": "completed"
    },
    "tags": []
   },
   "outputs": [],
   "source": [
    "#converting the textual into numerical data\n",
    "\n",
    "vectorizer = TfidfVectorizer()\n",
    "vectorizer.fit(X)\n",
    "\n",
    "X = vectorizer.transform(X)"
   ]
  },
  {
   "cell_type": "code",
   "execution_count": 26,
   "metadata": {
    "execution": {
     "iopub.execute_input": "2022-08-05T13:29:35.104801Z",
     "iopub.status.busy": "2022-08-05T13:29:35.104374Z",
     "iopub.status.idle": "2022-08-05T13:29:35.114457Z",
     "shell.execute_reply": "2022-08-05T13:29:35.112092Z"
    },
    "papermill": {
     "duration": 0.025481,
     "end_time": "2022-08-05T13:29:35.117815",
     "exception": false,
     "start_time": "2022-08-05T13:29:35.092334",
     "status": "completed"
    },
    "tags": []
   },
   "outputs": [
    {
     "name": "stdout",
     "output_type": "stream",
     "text": [
      "  (0, 15686)\t0.28485063562728646\n",
      "  (0, 13473)\t0.2565896679337957\n",
      "  (0, 8909)\t0.3635963806326075\n",
      "  (0, 8630)\t0.29212514087043684\n",
      "  (0, 7692)\t0.24785219520671603\n",
      "  (0, 7005)\t0.21874169089359144\n",
      "  (0, 4973)\t0.233316966909351\n",
      "  (0, 3792)\t0.2705332480845492\n",
      "  (0, 3600)\t0.3598939188262559\n",
      "  (0, 2959)\t0.2468450128533713\n",
      "  (0, 2483)\t0.3676519686797209\n",
      "  (0, 267)\t0.27010124977708766\n",
      "  (1, 16799)\t0.30071745655510157\n",
      "  (1, 6816)\t0.1904660198296849\n",
      "  (1, 5503)\t0.7143299355715573\n",
      "  (1, 3568)\t0.26373768806048464\n",
      "  (1, 2813)\t0.19094574062359204\n",
      "  (1, 2223)\t0.3827320386859759\n",
      "  (1, 1894)\t0.15521974226349364\n",
      "  (1, 1497)\t0.2939891562094648\n",
      "  (2, 15611)\t0.41544962664721613\n",
      "  (2, 9620)\t0.49351492943649944\n",
      "  (2, 5968)\t0.3474613386728292\n",
      "  (2, 5389)\t0.3866530551182615\n",
      "  (2, 3103)\t0.46097489583229645\n",
      "  :\t:\n",
      "  (20797, 13122)\t0.2482526352197606\n",
      "  (20797, 12344)\t0.27263457663336677\n",
      "  (20797, 12138)\t0.24778257724396507\n",
      "  (20797, 10306)\t0.08038079000566466\n",
      "  (20797, 9588)\t0.174553480255222\n",
      "  (20797, 9518)\t0.2954204003420313\n",
      "  (20797, 8988)\t0.36160868928090795\n",
      "  (20797, 8364)\t0.22322585870464118\n",
      "  (20797, 7042)\t0.21799048897828688\n",
      "  (20797, 3643)\t0.21155500613623743\n",
      "  (20797, 1287)\t0.33538056804139865\n",
      "  (20797, 699)\t0.30685846079762347\n",
      "  (20797, 43)\t0.29710241860700626\n",
      "  (20798, 13046)\t0.22363267488270608\n",
      "  (20798, 11052)\t0.4460515589182236\n",
      "  (20798, 10177)\t0.3192496370187028\n",
      "  (20798, 6889)\t0.32496285694299426\n",
      "  (20798, 5032)\t0.4083701450239529\n",
      "  (20798, 1125)\t0.4460515589182236\n",
      "  (20798, 588)\t0.3112141524638974\n",
      "  (20798, 350)\t0.28446937819072576\n",
      "  (20799, 14852)\t0.5677577267055112\n",
      "  (20799, 8036)\t0.45983893273780013\n",
      "  (20799, 3623)\t0.37927626273066584\n",
      "  (20799, 377)\t0.5677577267055112\n"
     ]
    }
   ],
   "source": [
    "print(X)"
   ]
  },
  {
   "cell_type": "code",
   "execution_count": 27,
   "metadata": {
    "execution": {
     "iopub.execute_input": "2022-08-05T13:29:35.140841Z",
     "iopub.status.busy": "2022-08-05T13:29:35.140465Z",
     "iopub.status.idle": "2022-08-05T13:29:35.145480Z",
     "shell.execute_reply": "2022-08-05T13:29:35.144175Z"
    },
    "papermill": {
     "duration": 0.018868,
     "end_time": "2022-08-05T13:29:35.147750",
     "exception": false,
     "start_time": "2022-08-05T13:29:35.128882",
     "status": "completed"
    },
    "tags": []
   },
   "outputs": [],
   "source": [
    "from sklearn.model_selection import train_test_split"
   ]
  },
  {
   "cell_type": "code",
   "execution_count": 28,
   "metadata": {
    "execution": {
     "iopub.execute_input": "2022-08-05T13:29:35.169960Z",
     "iopub.status.busy": "2022-08-05T13:29:35.169486Z",
     "iopub.status.idle": "2022-08-05T13:29:35.181060Z",
     "shell.execute_reply": "2022-08-05T13:29:35.179616Z"
    },
    "papermill": {
     "duration": 0.02595,
     "end_time": "2022-08-05T13:29:35.183871",
     "exception": false,
     "start_time": "2022-08-05T13:29:35.157921",
     "status": "completed"
    },
    "tags": []
   },
   "outputs": [],
   "source": [
    " X_train, X_test, y_train, y_test = train_test_split(X, y, test_size=0.33, random_state=42)"
   ]
  },
  {
   "cell_type": "code",
   "execution_count": 29,
   "metadata": {
    "execution": {
     "iopub.execute_input": "2022-08-05T13:29:35.206520Z",
     "iopub.status.busy": "2022-08-05T13:29:35.206059Z",
     "iopub.status.idle": "2022-08-05T13:29:35.211567Z",
     "shell.execute_reply": "2022-08-05T13:29:35.210306Z"
    },
    "papermill": {
     "duration": 0.019406,
     "end_time": "2022-08-05T13:29:35.213749",
     "exception": false,
     "start_time": "2022-08-05T13:29:35.194343",
     "status": "completed"
    },
    "tags": []
   },
   "outputs": [],
   "source": [
    "from sklearn.linear_model import LogisticRegression"
   ]
  },
  {
   "cell_type": "code",
   "execution_count": 30,
   "metadata": {
    "execution": {
     "iopub.execute_input": "2022-08-05T13:29:35.236452Z",
     "iopub.status.busy": "2022-08-05T13:29:35.236018Z",
     "iopub.status.idle": "2022-08-05T13:29:35.993283Z",
     "shell.execute_reply": "2022-08-05T13:29:35.991452Z"
    },
    "papermill": {
     "duration": 0.774081,
     "end_time": "2022-08-05T13:29:35.998142",
     "exception": false,
     "start_time": "2022-08-05T13:29:35.224061",
     "status": "completed"
    },
    "tags": []
   },
   "outputs": [
    {
     "data": {
      "text/plain": [
       "array([1, 1, 0, ..., 0, 0, 0], dtype=int64)"
      ]
     },
     "execution_count": 30,
     "metadata": {},
     "output_type": "execute_result"
    }
   ],
   "source": [
    "lm = LogisticRegression()\n",
    "\n",
    "\n",
    "lm.fit(X_train,y_train)\n",
    "predictions = lm.predict(X_test)\n",
    "predictions"
   ]
  },
  {
   "cell_type": "code",
   "execution_count": 31,
   "metadata": {
    "execution": {
     "iopub.execute_input": "2022-08-05T13:29:36.095122Z",
     "iopub.status.busy": "2022-08-05T13:29:36.094742Z",
     "iopub.status.idle": "2022-08-05T13:29:36.100829Z",
     "shell.execute_reply": "2022-08-05T13:29:36.099365Z"
    },
    "papermill": {
     "duration": 0.054211,
     "end_time": "2022-08-05T13:29:36.103552",
     "exception": false,
     "start_time": "2022-08-05T13:29:36.049341",
     "status": "completed"
    },
    "tags": []
   },
   "outputs": [],
   "source": [
    "from sklearn.metrics import classification_report,confusion_matrix,accuracy_score"
   ]
  },
  {
   "cell_type": "code",
   "execution_count": 32,
   "metadata": {
    "execution": {
     "iopub.execute_input": "2022-08-05T13:29:36.128281Z",
     "iopub.status.busy": "2022-08-05T13:29:36.127367Z",
     "iopub.status.idle": "2022-08-05T13:29:36.150752Z",
     "shell.execute_reply": "2022-08-05T13:29:36.149484Z"
    },
    "papermill": {
     "duration": 0.03886,
     "end_time": "2022-08-05T13:29:36.153487",
     "exception": false,
     "start_time": "2022-08-05T13:29:36.114627",
     "status": "completed"
    },
    "tags": []
   },
   "outputs": [
    {
     "name": "stdout",
     "output_type": "stream",
     "text": [
      "              precision    recall  f1-score   support\n",
      "\n",
      "           0       0.99      0.96      0.97      3449\n",
      "           1       0.96      0.99      0.97      3415\n",
      "\n",
      "    accuracy                           0.97      6864\n",
      "   macro avg       0.97      0.97      0.97      6864\n",
      "weighted avg       0.97      0.97      0.97      6864\n",
      "\n"
     ]
    }
   ],
   "source": [
    "print(classification_report(y_test,predictions))"
   ]
  },
  {
   "cell_type": "code",
   "execution_count": 33,
   "metadata": {
    "execution": {
     "iopub.execute_input": "2022-08-05T13:29:36.178164Z",
     "iopub.status.busy": "2022-08-05T13:29:36.177394Z",
     "iopub.status.idle": "2022-08-05T13:29:36.186267Z",
     "shell.execute_reply": "2022-08-05T13:29:36.185153Z"
    },
    "papermill": {
     "duration": 0.024063,
     "end_time": "2022-08-05T13:29:36.188585",
     "exception": false,
     "start_time": "2022-08-05T13:29:36.164522",
     "status": "completed"
    },
    "tags": []
   },
   "outputs": [
    {
     "data": {
      "text/plain": [
       "0.9723193473193473"
      ]
     },
     "execution_count": 33,
     "metadata": {},
     "output_type": "execute_result"
    }
   ],
   "source": [
    "accuracy_score(y_test,predictions)"
   ]
  },
  {
   "cell_type": "code",
   "execution_count": null,
   "metadata": {
    "papermill": {
     "duration": 0.01109,
     "end_time": "2022-08-05T13:29:36.210851",
     "exception": false,
     "start_time": "2022-08-05T13:29:36.199761",
     "status": "completed"
    },
    "tags": []
   },
   "outputs": [],
   "source": []
  },
  {
   "cell_type": "code",
   "execution_count": null,
   "metadata": {},
   "outputs": [],
   "source": []
  }
 ],
 "metadata": {
  "kernelspec": {
   "display_name": "Python 3",
   "language": "python",
   "name": "python3"
  },
  "language_info": {
   "codemirror_mode": {
    "name": "ipython",
    "version": 3
   },
   "file_extension": ".py",
   "mimetype": "text/x-python",
   "name": "python",
   "nbconvert_exporter": "python",
   "pygments_lexer": "ipython3",
   "version": "3.8.3"
  },
  "papermill": {
   "default_parameters": {},
   "duration": 67.860307,
   "end_time": "2022-08-05T13:29:37.348709",
   "environment_variables": {},
   "exception": null,
   "input_path": "__notebook__.ipynb",
   "output_path": "__notebook__.ipynb",
   "parameters": {},
   "start_time": "2022-08-05T13:28:29.488402",
   "version": "2.3.4"
  }
 },
 "nbformat": 4,
 "nbformat_minor": 5
}
